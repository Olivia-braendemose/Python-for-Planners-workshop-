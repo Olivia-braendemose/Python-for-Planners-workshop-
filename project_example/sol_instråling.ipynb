{
  "nbformat": 4,
  "nbformat_minor": 0,
  "metadata": {
    "colab": {
      "provenance": [],
      "include_colab_link": true
    },
    "kernelspec": {
      "name": "python3",
      "display_name": "Python 3"
    },
    "language_info": {
      "name": "python"
    }
  },
  "cells": [
    {
      "cell_type": "markdown",
      "metadata": {
        "id": "view-in-github",
        "colab_type": "text"
      },
      "source": [
        "<a href=\"https://colab.research.google.com/github/Olivia-braendemose/Python-for-Planners-workshop-/blob/main/project_example/sol_instr%C3%A5ling.ipynb\" target=\"_parent\"><img src=\"https://colab.research.google.com/assets/colab-badge.svg\" alt=\"Open In Colab\"/></a>"
      ]
    },
    {
      "cell_type": "code",
      "execution_count": null,
      "metadata": {
        "id": "odulNe1cxrr9"
      },
      "outputs": [],
      "source": [
        "import pysolar\n",
        "import datetime"
      ]
    },
    {
      "cell_type": "code",
      "source": [
        "help(solar.get_sun_earth_distance)"
      ],
      "metadata": {
        "colab": {
          "base_uri": "https://localhost:8080/"
        },
        "id": "-mBD3A0f4XQr",
        "outputId": "8b5d7fb2-d3be-4d40-9f50-3d24189e5313"
      },
      "execution_count": null,
      "outputs": [
        {
          "output_type": "stream",
          "name": "stdout",
          "text": [
            "Help on function get_sun_earth_distance in module pysolar.solar:\n",
            "\n",
            "get_sun_earth_distance(jme)\n",
            "\n"
          ]
        }
      ]
    },
    {
      "cell_type": "code",
      "source": [
        "!pip install pysolar"
      ],
      "metadata": {
        "colab": {
          "base_uri": "https://localhost:8080/"
        },
        "id": "yUsYKGFQxu8y",
        "outputId": "c6322887-f65d-4a03-8909-cbf4b3004bb4"
      },
      "execution_count": null,
      "outputs": [
        {
          "output_type": "stream",
          "name": "stdout",
          "text": [
            "Collecting pysolar\n",
            "  Downloading pysolar-0.13-py3-none-any.whl.metadata (358 bytes)\n",
            "Requirement already satisfied: numpy in /usr/local/lib/python3.11/dist-packages (from pysolar) (1.26.4)\n",
            "Downloading pysolar-0.13-py3-none-any.whl (46 kB)\n",
            "\u001b[?25l   \u001b[90m━━━━━━━━━━━━━━━━━━━━━━━━━━━━━━━━━━━━━━━━\u001b[0m \u001b[32m0.0/46.9 kB\u001b[0m \u001b[31m?\u001b[0m eta \u001b[36m-:--:--\u001b[0m\r\u001b[2K   \u001b[90m━━━━━━━━━━━━━━━━━━━━━━━━━━━━━━━━━━━━━━━━\u001b[0m \u001b[32m46.9/46.9 kB\u001b[0m \u001b[31m1.8 MB/s\u001b[0m eta \u001b[36m0:00:00\u001b[0m\n",
            "\u001b[?25hInstalling collected packages: pysolar\n",
            "Successfully installed pysolar-0.13\n"
          ]
        }
      ]
    },
    {
      "cell_type": "code",
      "source": [
        "import pysolar.solar as solar\n",
        "import datetime\n",
        "\n",
        "latitude = 55.6761\n",
        "longitude = 12.5683\n",
        "#date = datetime.datetime.now(datetime.timezone.utc)\n",
        "\n",
        "date = datetime.datetime(2025, 2, 28, 6, 5,  tzinfo=datetime.timezone.utc)\n",
        "alt = solar.get_altitude(latitude, longitude, date)\n",
        "az = solar.get_azimuth(latitude, longitude, date)\n",
        "print(alt, az)\n",
        "\n",
        "print(solar.radiation.get_radiation_direct(date,alt))\n"
      ],
      "metadata": {
        "colab": {
          "base_uri": "https://localhost:8080/"
        },
        "id": "TwdcVM-Cxz5d",
        "outputId": "dd1bc7c3-79c5-47ee-dc33-e4f1e4e9fe43"
      },
      "execution_count": null,
      "outputs": [
        {
          "output_type": "stream",
          "name": "stdout",
          "text": [
            "0.03068685808945415 103.24098125514435\n",
            "2.486503597976085e-120\n"
          ]
        }
      ]
    }
  ]
}